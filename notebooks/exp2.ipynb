{
 "cells": [
  {
   "cell_type": "code",
   "execution_count": 1,
   "metadata": {},
   "outputs": [],
   "source": [
    "import pandas as pd\n",
    "import mlflow\n",
    "import mlflow.sklearn\n",
    "from sklearn.model_selection import train_test_split\n",
    "from sklearn.ensemble import RandomForestClassifier\n",
    "from sklearn.tree import DecisionTreeClassifier\n",
    "from sklearn.metrics import accuracy_score"
   ]
  },
  {
   "cell_type": "code",
   "execution_count": 2,
   "metadata": {},
   "outputs": [
    {
     "data": {
      "text/html": [
       "<pre style=\"white-space:pre;overflow-x:auto;line-height:normal;font-family:Menlo,'DejaVu Sans Mono',consolas,'Courier New',monospace\">Accessing as santanu211\n",
       "</pre>\n"
      ],
      "text/plain": [
       "Accessing as santanu211\n"
      ]
     },
     "metadata": {},
     "output_type": "display_data"
    },
    {
     "data": {
      "text/html": [
       "<pre style=\"white-space:pre;overflow-x:auto;line-height:normal;font-family:Menlo,'DejaVu Sans Mono',consolas,'Courier New',monospace\">Initialized MLflow to track repo <span style=\"color: #008000; text-decoration-color: #008000\">\"santanu211/mini_project_mlopps\"</span>\n",
       "</pre>\n"
      ],
      "text/plain": [
       "Initialized MLflow to track repo \u001b[32m\"santanu211/mini_project_mlopps\"\u001b[0m\n"
      ]
     },
     "metadata": {},
     "output_type": "display_data"
    },
    {
     "data": {
      "text/html": [
       "<pre style=\"white-space:pre;overflow-x:auto;line-height:normal;font-family:Menlo,'DejaVu Sans Mono',consolas,'Courier New',monospace\">Repository santanu211/mini_project_mlopps initialized!\n",
       "</pre>\n"
      ],
      "text/plain": [
       "Repository santanu211/mini_project_mlopps initialized!\n"
      ]
     },
     "metadata": {},
     "output_type": "display_data"
    }
   ],
   "source": [
    "import dagshub\n",
    "mlflow.set_tracking_uri(\"https://dagshub.com/santanu211/mini_project_mlopps.mlflow\")\n",
    "\n",
    "dagshub.init(repo_owner='santanu211', repo_name='mini_project_mlopps', mlflow=True)\n"
   ]
  },
  {
   "cell_type": "code",
   "execution_count": 3,
   "metadata": {},
   "outputs": [],
   "source": [
    "# Load data\n",
    "df = pd.read_csv(\"C:/Users/Admin/Music/Student Depression Dataset.csv\")\n",
    "\n",
    "# Preprocessing\n",
    "df.fillna(0, inplace=True)  # Fill missing values with 0\n",
    "df = df.select_dtypes(include=['number'])  # Keep only numeric columns\n",
    "\n",
    "# Splitting features and labels\n",
    "X = df.drop(columns=['Depression'], errors='ignore')\n",
    "y = df[\"Depression\"] if 'Depression' in df else None  \n",
    "\n",
    "# Define test sizes and algorithms\n",
    "test_sizes = [0.2, 0.3]\n",
    "algorithms = {\n",
    "    'RandomForest': RandomForestClassifier(),\n",
    "    'Decision_Tree': DecisionTreeClassifier()\n",
    "}"
   ]
  },
  {
   "cell_type": "code",
   "execution_count": 4,
   "metadata": {},
   "outputs": [
    {
     "name": "stderr",
     "output_type": "stream",
     "text": [
      "2025/03/28 21:59:07 WARNING mlflow.models.model: Model logged without a signature and input example. Please set `input_example` parameter when logging the model to auto infer the model signature.\n"
     ]
    },
    {
     "name": "stdout",
     "output_type": "stream",
     "text": [
      "Test Size: 0.2, Model: RandomForest, Accuracy: 0.77\n",
      "🏃 View run RandomForest at: https://dagshub.com/santanu211/mini_project_mlopps.mlflow/#/experiments/0/runs/f51153234af54faa83832d892d315706\n",
      "🧪 View experiment at: https://dagshub.com/santanu211/mini_project_mlopps.mlflow/#/experiments/0\n"
     ]
    },
    {
     "name": "stderr",
     "output_type": "stream",
     "text": [
      "2025/03/28 22:09:10 WARNING mlflow.models.model: Model logged without a signature and input example. Please set `input_example` parameter when logging the model to auto infer the model signature.\n"
     ]
    },
    {
     "name": "stdout",
     "output_type": "stream",
     "text": [
      "Test Size: 0.2, Model: Decision_Tree, Accuracy: 0.70\n",
      "🏃 View run Decision_Tree at: https://dagshub.com/santanu211/mini_project_mlopps.mlflow/#/experiments/0/runs/a8910983d89f46b09a8a24ff0a6c3024\n",
      "🧪 View experiment at: https://dagshub.com/santanu211/mini_project_mlopps.mlflow/#/experiments/0\n",
      "🏃 View run Test_Size_0.2 at: https://dagshub.com/santanu211/mini_project_mlopps.mlflow/#/experiments/0/runs/d03cf563c4ce44608ffd997514ddb75f\n",
      "🧪 View experiment at: https://dagshub.com/santanu211/mini_project_mlopps.mlflow/#/experiments/0\n"
     ]
    },
    {
     "name": "stderr",
     "output_type": "stream",
     "text": [
      "2025/03/28 22:09:53 WARNING mlflow.models.model: Model logged without a signature and input example. Please set `input_example` parameter when logging the model to auto infer the model signature.\n"
     ]
    },
    {
     "name": "stdout",
     "output_type": "stream",
     "text": [
      "Test Size: 0.3, Model: RandomForest, Accuracy: 0.77\n",
      "🏃 View run RandomForest at: https://dagshub.com/santanu211/mini_project_mlopps.mlflow/#/experiments/0/runs/38c225e983964cab822965d64f47f64a\n",
      "🧪 View experiment at: https://dagshub.com/santanu211/mini_project_mlopps.mlflow/#/experiments/0\n"
     ]
    },
    {
     "name": "stderr",
     "output_type": "stream",
     "text": [
      "2025/03/28 22:18:32 WARNING mlflow.models.model: Model logged without a signature and input example. Please set `input_example` parameter when logging the model to auto infer the model signature.\n"
     ]
    },
    {
     "name": "stdout",
     "output_type": "stream",
     "text": [
      "Test Size: 0.3, Model: Decision_Tree, Accuracy: 0.69\n",
      "🏃 View run Decision_Tree at: https://dagshub.com/santanu211/mini_project_mlopps.mlflow/#/experiments/0/runs/b1b74cc039734ee0b583b15272abddcd\n",
      "🧪 View experiment at: https://dagshub.com/santanu211/mini_project_mlopps.mlflow/#/experiments/0\n",
      "🏃 View run Test_Size_0.3 at: https://dagshub.com/santanu211/mini_project_mlopps.mlflow/#/experiments/0/runs/8c9e015fa38d46279eb47ac123333027\n",
      "🧪 View experiment at: https://dagshub.com/santanu211/mini_project_mlopps.mlflow/#/experiments/0\n",
      "🏃 View run Test_Size_Experiments at: https://dagshub.com/santanu211/mini_project_mlopps.mlflow/#/experiments/0/runs/53c04b4fc19a48dcb89dbd2b42756928\n",
      "🧪 View experiment at: https://dagshub.com/santanu211/mini_project_mlopps.mlflow/#/experiments/0\n"
     ]
    }
   ],
   "source": [
    "# Parent MLflow run for test sizes\n",
    "with mlflow.start_run(run_name=\"Test_Size_Experiments\") as parent_run:\n",
    "    for test_size in test_sizes:\n",
    "        with mlflow.start_run(run_name=f\"Test_Size_{test_size}\", nested=True) as test_size_run:\n",
    "            mlflow.log_param(\"test_size\", test_size)\n",
    "\n",
    "            X_train, X_test, y_train, y_test = train_test_split(X, y, test_size=test_size, random_state=42)\n",
    "\n",
    "            for model_name, model in algorithms.items():\n",
    "                with mlflow.start_run(run_name=model_name, nested=True) as model_run:\n",
    "                    # Log model type\n",
    "                    mlflow.log_param(\"model\", model_name)\n",
    "\n",
    "                    # Train model\n",
    "                    model.fit(X_train, y_train)\n",
    "                    y_pred = model.predict(X_test)\n",
    "\n",
    "                    # Evaluate\n",
    "                    accuracy = accuracy_score(y_test, y_pred)\n",
    "                    mlflow.log_metric(\"accuracy\", accuracy)\n",
    "\n",
    "                    # Log model\n",
    "                    mlflow.sklearn.log_model(model, \"model\")\n",
    "                    \n",
    "                    # Save and log the notebook\n",
    "                    import os\n",
    "                    notebook_path = \"exp2.ipynb\"\n",
    "                    os.system(f\"jupyter nbconvert --to notebook --execute --inplace {notebook_path}\")\n",
    "                    mlflow.log_artifact(notebook_path)\n",
    "\n",
    "                    print(f\"Test Size: {test_size}, Model: {model_name}, Accuracy: {accuracy:.2f}\")"
   ]
  }
 ],
 "metadata": {
  "kernelspec": {
   "display_name": "mlop",
   "language": "python",
   "name": "python3"
  },
  "language_info": {
   "codemirror_mode": {
    "name": "ipython",
    "version": 3
   },
   "file_extension": ".py",
   "mimetype": "text/x-python",
   "name": "python",
   "nbconvert_exporter": "python",
   "pygments_lexer": "ipython3",
   "version": "3.12.8"
  }
 },
 "nbformat": 4,
 "nbformat_minor": 2
}
