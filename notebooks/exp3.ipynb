{
 "cells": [
  {
   "cell_type": "code",
   "execution_count": 1,
   "metadata": {},
   "outputs": [],
   "source": [
    "import pandas as pd\n",
    "import mlflow\n",
    "import mlflow.sklearn\n",
    "from sklearn.model_selection import train_test_split, GridSearchCV\n",
    "from sklearn.ensemble import RandomForestClassifier\n",
    "from sklearn.tree import DecisionTreeClassifier\n",
    "from sklearn.metrics import accuracy_score"
   ]
  },
  {
   "cell_type": "code",
   "execution_count": 2,
   "metadata": {},
   "outputs": [
    {
     "data": {
      "text/html": [
       "<pre style=\"white-space:pre;overflow-x:auto;line-height:normal;font-family:Menlo,'DejaVu Sans Mono',consolas,'Courier New',monospace\">Accessing as santanu211\n",
       "</pre>\n"
      ],
      "text/plain": [
       "Accessing as santanu211\n"
      ]
     },
     "metadata": {},
     "output_type": "display_data"
    },
    {
     "data": {
      "text/html": [
       "<pre style=\"white-space:pre;overflow-x:auto;line-height:normal;font-family:Menlo,'DejaVu Sans Mono',consolas,'Courier New',monospace\">Initialized MLflow to track repo <span style=\"color: #008000; text-decoration-color: #008000\">\"santanu211/mini_project_mlopps\"</span>\n",
       "</pre>\n"
      ],
      "text/plain": [
       "Initialized MLflow to track repo \u001b[32m\"santanu211/mini_project_mlopps\"\u001b[0m\n"
      ]
     },
     "metadata": {},
     "output_type": "display_data"
    },
    {
     "data": {
      "text/html": [
       "<pre style=\"white-space:pre;overflow-x:auto;line-height:normal;font-family:Menlo,'DejaVu Sans Mono',consolas,'Courier New',monospace\">Repository santanu211/mini_project_mlopps initialized!\n",
       "</pre>\n"
      ],
      "text/plain": [
       "Repository santanu211/mini_project_mlopps initialized!\n"
      ]
     },
     "metadata": {},
     "output_type": "display_data"
    }
   ],
   "source": [
    "import dagshub\n",
    "mlflow.set_tracking_uri(\"https://dagshub.com/santanu211/mini_project_mlopps.mlflow\")\n",
    "\n",
    "dagshub.init(repo_owner='santanu211', repo_name='mini_project_mlopps', mlflow=True)\n"
   ]
  },
  {
   "cell_type": "code",
   "execution_count": 3,
   "metadata": {},
   "outputs": [],
   "source": [
    "# Load data\n",
    "df = pd.read_csv(\"C:/Users/Admin/Music/Student Depression Dataset.csv\")\n",
    "\n",
    "# Preprocessing\n",
    "df.fillna(0, inplace=True)  # Fill missing values with 0\n",
    "df = df.select_dtypes(include=['number'])  # Keep only numeric columns\n",
    "\n",
    "# Splitting features and labels\n",
    "X = df.drop(columns=['Depression'], errors='ignore')\n",
    "y = df[\"Depression\"] if 'Depression' in df else None  \n",
    "\n",
    "# Define test sizes and algorithms\n",
    "test_sizes = [0.2, 0.3]\n",
    "algorithms = {\n",
    "    'RandomForest': RandomForestClassifier(),\n",
    "    'DecisionTree': DecisionTreeClassifier()\n",
    "}\n",
    "\n",
    "# Hyperparameter grids for tuning\n",
    "param_grids = {\n",
    "    'RandomForest': {'n_estimators': [50, 100, 150], 'max_depth': [None, 10, 20]},\n",
    "    'DecisionTree': {'max_depth': [None, 10, 20], 'min_samples_split': [2, 5, 10]}\n",
    "}\n"
   ]
  },
  {
   "cell_type": "code",
   "execution_count": 6,
   "metadata": {},
   "outputs": [
    {
     "name": "stderr",
     "output_type": "stream",
     "text": [
      "2025/03/28 22:42:07 INFO mlflow.tracking.fluent: Experiment with name 'Test_Size_Experiments' does not exist. Creating a new experiment.\n",
      "2025/03/28 22:45:01 WARNING mlflow.models.model: Model logged without a signature and input example. Please set `input_example` parameter when logging the model to auto infer the model signature.\n"
     ]
    },
    {
     "name": "stdout",
     "output_type": "stream",
     "text": [
      "Test Size: 0.2, Model: RandomForest, Best Params: {'max_depth': 10, 'n_estimators': 150}, Accuracy: 0.77\n",
      "🏃 View run RandomForest at: https://dagshub.com/santanu211/mini_project_mlopps.mlflow/#/experiments/2/runs/d014593988a54808b5e0146c3d33cdb6\n",
      "🧪 View experiment at: https://dagshub.com/santanu211/mini_project_mlopps.mlflow/#/experiments/2\n"
     ]
    },
    {
     "name": "stderr",
     "output_type": "stream",
     "text": [
      "2025/03/28 22:49:46 WARNING mlflow.models.model: Model logged without a signature and input example. Please set `input_example` parameter when logging the model to auto infer the model signature.\n"
     ]
    },
    {
     "name": "stdout",
     "output_type": "stream",
     "text": [
      "Test Size: 0.2, Model: DecisionTree, Best Params: {'max_depth': 10, 'min_samples_split': 2}, Accuracy: 0.75\n",
      "🏃 View run DecisionTree at: https://dagshub.com/santanu211/mini_project_mlopps.mlflow/#/experiments/2/runs/e2e01d3e4c9f4563b3a2621fb8106888\n",
      "🧪 View experiment at: https://dagshub.com/santanu211/mini_project_mlopps.mlflow/#/experiments/2\n",
      "🏃 View run Test_Size_0.2 at: https://dagshub.com/santanu211/mini_project_mlopps.mlflow/#/experiments/2/runs/5a3bca91a74d40cbb7fe5159b167519b\n",
      "🧪 View experiment at: https://dagshub.com/santanu211/mini_project_mlopps.mlflow/#/experiments/2\n"
     ]
    },
    {
     "name": "stderr",
     "output_type": "stream",
     "text": [
      "2025/03/28 22:51:48 WARNING mlflow.models.model: Model logged without a signature and input example. Please set `input_example` parameter when logging the model to auto infer the model signature.\n"
     ]
    },
    {
     "name": "stdout",
     "output_type": "stream",
     "text": [
      "Test Size: 0.3, Model: RandomForest, Best Params: {'max_depth': 10, 'n_estimators': 150}, Accuracy: 0.78\n",
      "🏃 View run RandomForest at: https://dagshub.com/santanu211/mini_project_mlopps.mlflow/#/experiments/2/runs/2fd1caa3eec047edb178ff26f13fc9b7\n",
      "🧪 View experiment at: https://dagshub.com/santanu211/mini_project_mlopps.mlflow/#/experiments/2\n"
     ]
    },
    {
     "name": "stderr",
     "output_type": "stream",
     "text": [
      "2025/03/28 22:58:27 WARNING mlflow.models.model: Model logged without a signature and input example. Please set `input_example` parameter when logging the model to auto infer the model signature.\n"
     ]
    },
    {
     "name": "stdout",
     "output_type": "stream",
     "text": [
      "Test Size: 0.3, Model: DecisionTree, Best Params: {'max_depth': 10, 'min_samples_split': 2}, Accuracy: 0.75\n",
      "🏃 View run DecisionTree at: https://dagshub.com/santanu211/mini_project_mlopps.mlflow/#/experiments/2/runs/db66667cee134ce4b1d9516192aa5005\n",
      "🧪 View experiment at: https://dagshub.com/santanu211/mini_project_mlopps.mlflow/#/experiments/2\n",
      "🏃 View run Test_Size_0.3 at: https://dagshub.com/santanu211/mini_project_mlopps.mlflow/#/experiments/2/runs/4d2cf9232160468e83b89bb680c3742a\n",
      "🧪 View experiment at: https://dagshub.com/santanu211/mini_project_mlopps.mlflow/#/experiments/2\n",
      "🏃 View run Parent_Run at: https://dagshub.com/santanu211/mini_project_mlopps.mlflow/#/experiments/2/runs/f80ab2f9abe947f88223516f635269eb\n",
      "🧪 View experiment at: https://dagshub.com/santanu211/mini_project_mlopps.mlflow/#/experiments/2\n"
     ]
    }
   ],
   "source": [
    "# Start MLflow Tracking\n",
    "mlflow.set_experiment(\"Test_Size_Experiments\")\n",
    "\n",
    "with mlflow.start_run(run_name=\"Parent_Run\") as parent_run:\n",
    "    for test_size in test_sizes:\n",
    "        with mlflow.start_run(run_name=f\"Test_Size_{test_size}\", nested=True):\n",
    "            mlflow.log_param(\"test_size\", test_size)\n",
    "\n",
    "            X_train, X_test, y_train, y_test = train_test_split(X, y, test_size=test_size, random_state=42)\n",
    "\n",
    "            for model_name, model in algorithms.items():\n",
    "                with mlflow.start_run(run_name=model_name, nested=True):\n",
    "                    # Perform Grid Search\n",
    "                    grid_search = GridSearchCV(model, param_grids[model_name], cv=3, scoring='accuracy')\n",
    "                    grid_search.fit(X_train, y_train)\n",
    "\n",
    "                    # Get best model and parameters\n",
    "                    best_model = grid_search.best_estimator_\n",
    "                    best_params = grid_search.best_params_\n",
    "\n",
    "                    # Log best parameters\n",
    "                    mlflow.log_params(best_params)\n",
    "\n",
    "                    # Retrain with best model\n",
    "                    best_model.fit(X_train, y_train)\n",
    "                    y_pred = best_model.predict(X_test)\n",
    "\n",
    "                    # Convert accuracy to a native Python float\n",
    "                    accuracy = float(accuracy_score(y_test.squeeze(), y_pred.squeeze()))\n",
    "                    mlflow.log_metric(\"accuracy\", accuracy)\n",
    "\n",
    "                    # Log the best trained model\n",
    "                    mlflow.sklearn.log_model(best_model, artifact_path=f\"{model_name}_model\")\n",
    "\n",
    "                    print(f\"Test Size: {test_size}, Model: {model_name}, Best Params: {best_params}, Accuracy: {accuracy:.2f}\")\n",
    "\n",
    "mlflow.end_run()"
   ]
  }
 ],
 "metadata": {
  "kernelspec": {
   "display_name": "mlop",
   "language": "python",
   "name": "python3"
  },
  "language_info": {
   "codemirror_mode": {
    "name": "ipython",
    "version": 3
   },
   "file_extension": ".py",
   "mimetype": "text/x-python",
   "name": "python",
   "nbconvert_exporter": "python",
   "pygments_lexer": "ipython3",
   "version": "3.12.8"
  }
 },
 "nbformat": 4,
 "nbformat_minor": 2
}
